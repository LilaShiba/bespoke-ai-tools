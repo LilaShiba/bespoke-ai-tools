{
 "cells": [
  {
   "cell_type": "code",
   "execution_count": 4,
   "id": "2b2750b3",
   "metadata": {},
   "outputs": [],
   "source": [
    "from utils.core import Vector \n",
    "from utils.dataframes import SpookyDF\n",
    "import pandas as pd \n",
    "import numpy as np \n",
    "import matplotlib.pyplot as plt"
   ]
  },
  {
   "cell_type": "code",
   "execution_count": 5,
   "id": "c51eabaa",
   "metadata": {},
   "outputs": [
    {
     "name": "stderr",
     "output_type": "stream",
     "text": [
      "✨💖 Loading CSVs ✨💖: 100%|██████████| 3040/3040 [00:08<00:00, 367.69it/s]\n"
     ]
    }
   ],
   "source": [
    "ghostDF = SpookyDF(df=Vector.load_folder('/Users/lila/data_viz/data'))\n"
   ]
  },
  {
   "cell_type": "code",
   "execution_count": 6,
   "id": "f9669a9b",
   "metadata": {},
   "outputs": [
    {
     "data": {
      "text/plain": [
       "defaultdict(None,\n",
       "            {'timestamp': <Vector 'timestamp' (n=20352)>,\n",
       "             'accel_x': <Vector 'accel_x' (n=20352)>,\n",
       "             'accel_y': <Vector 'accel_y' (n=20352)>,\n",
       "             'accel_z': <Vector 'accel_z' (n=20352)>,\n",
       "             'gyro_x': <Vector 'gyro_x' (n=20352)>,\n",
       "             'gyro_y': <Vector 'gyro_y' (n=20352)>,\n",
       "             'gyro_z': <Vector 'gyro_z' (n=20352)>,\n",
       "             'mag_x': <Vector 'mag_x' (n=20352)>,\n",
       "             'mag_y': <Vector 'mag_y' (n=20352)>,\n",
       "             'mag_z': <Vector 'mag_z' (n=20352)>,\n",
       "             'temp_lsm9ds1': <Vector 'temp_lsm9ds1' (n=20352)>,\n",
       "             'proximity': <Vector 'proximity' (n=20352)>,\n",
       "             'color_r': <Vector 'color_r' (n=20352)>,\n",
       "             'color_g': <Vector 'color_g' (n=20352)>,\n",
       "             'color_b': <Vector 'color_b' (n=20352)>,\n",
       "             'color_c': <Vector 'color_c' (n=20352)>,\n",
       "             'bme680_temp': <Vector 'bme680_temp' (n=20352)>,\n",
       "             'gas': <Vector 'gas' (n=20352)>,\n",
       "             'humidity': <Vector 'humidity' (n=20352)>,\n",
       "             'pressure': <Vector 'pressure' (n=20352)>,\n",
       "             'gps_speed': <Vector 'gps_speed' (n=20352)>})"
      ]
     },
     "execution_count": 6,
     "metadata": {},
     "output_type": "execute_result"
    }
   ],
   "source": [
    "ghostDF.get_clean_df()\n",
    "vector_map = ghostDF.load_cols_into_vectors()\n",
    "vector_map"
   ]
  },
  {
   "cell_type": "code",
   "execution_count": null,
   "id": "adfc8151",
   "metadata": {},
   "outputs": [],
   "source": []
  }
 ],
 "metadata": {
  "kernelspec": {
   "display_name": "sp00kyEnv",
   "language": "python",
   "name": "python3"
  },
  "language_info": {
   "codemirror_mode": {
    "name": "ipython",
    "version": 3
   },
   "file_extension": ".py",
   "mimetype": "text/x-python",
   "name": "python",
   "nbconvert_exporter": "python",
   "pygments_lexer": "ipython3",
   "version": "3.12.10"
  }
 },
 "nbformat": 4,
 "nbformat_minor": 5
}
